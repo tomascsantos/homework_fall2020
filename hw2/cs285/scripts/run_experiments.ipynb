{
 "cells": [
  {
   "cell_type": "markdown",
   "metadata": {},
   "source": [
    "# Plotting Helper"
   ]
  },
  {
   "cell_type": "code",
   "execution_count": 20,
   "metadata": {},
   "outputs": [],
   "source": [
    "import glob\n",
    "import numpy as np\n",
    "import pandas as pd\n",
    "import seaborn as sns\n",
    "import matplotlib.pyplot as plt\n",
    "logdir = \"../../plottingdata/\"\n",
    "\n",
    "def plot_tensorboard_data(file, plot_title):\n",
    "    filename = glob.glob(logdir+\"*\"+file+\"*\")\n",
    "    data = pd.read_csv(filename[0])\n",
    "    ax = sns.lineplot(x=data[\"Step\"], y=data[\"Value\"]).set_title(plot_title)\n",
    "    plt.ylabel(\"Eval Average Return\")\n",
    "    plt.show()"
   ]
  },
  {
   "cell_type": "markdown",
   "metadata": {},
   "source": [
    "# Experiment 1 (CartPole)"
   ]
  },
  {
   "cell_type": "code",
   "execution_count": null,
   "metadata": {},
   "outputs": [],
   "source": [
    "!python ./run_hw2.py --env_name CartPole-v0 -n 100 -b 1000 \\\n",
    "-dsa --exp_name q1_sb_no_rtg_dsa"
   ]
  },
  {
   "cell_type": "code",
   "execution_count": null,
   "metadata": {},
   "outputs": [],
   "source": [
    "!python ./run_hw2.py --env_name CartPole-v0 -n 100 -b 1000 \\\n",
    "-rtg -dsa --exp_name q1_sb_rtg_dsa"
   ]
  },
  {
   "cell_type": "code",
   "execution_count": null,
   "metadata": {
    "scrolled": true
   },
   "outputs": [],
   "source": [
    "!python ./run_hw2.py --env_name CartPole-v0 -n 100 -b 1000 \\\n",
    "-rtg --exp_name q1_sb_rtg_na"
   ]
  },
  {
   "cell_type": "code",
   "execution_count": null,
   "metadata": {
    "scrolled": true
   },
   "outputs": [],
   "source": [
    "!python ./run_hw2.py  --env_name CartPole-v0 -n 100 -b 5000 \\\n",
    "-dsa --exp_name q1_lb_no_rtg_dsa"
   ]
  },
  {
   "cell_type": "code",
   "execution_count": null,
   "metadata": {
    "scrolled": true
   },
   "outputs": [],
   "source": [
    "!python ./run_hw2.py --env_name CartPole-v0 -n 100 -b 5000 \\\n",
    "-rtg -dsa --exp_name q1_lb_rtg_dsa"
   ]
  },
  {
   "cell_type": "code",
   "execution_count": null,
   "metadata": {
    "scrolled": true
   },
   "outputs": [],
   "source": [
    "!python ./run_hw2.py --env_name CartPole-v0 -n 100 -b 5000 \\\n",
    "-rtg --exp_name q1_lb_rtg_na"
   ]
  },
  {
   "cell_type": "markdown",
   "metadata": {},
   "source": [
    "# Experiment 2 (Inverted Pendulum)"
   ]
  },
  {
   "cell_type": "code",
   "execution_count": null,
   "metadata": {},
   "outputs": [],
   "source": [
    "def run_pendulum(r, b):\n",
    "    !python ./run_hw2.py  --env_name InvertedPendulum-v2 \\\n",
    "    --ep_len 1000 --discount 0.9 -n 100 -l 2 -s 64 -b {b} -lr {r} -rtg \\\n",
    "    --exp_name q2_b{b}_r{r}\n",
    "    \n",
    "for b in [10, 100, 200, 500, 800, 1000, 1500, 3000]:\n",
    "    for lr in [0.005, .01, .02, .05, .1]:\n",
    "        run_pendulum(lr, b)"
   ]
  },
  {
   "cell_type": "markdown",
   "metadata": {},
   "source": [
    "# Experiment 3 (LunarLander)"
   ]
  },
  {
   "cell_type": "code",
   "execution_count": null,
   "metadata": {
    "scrolled": true
   },
   "outputs": [],
   "source": [
    "!python ./run_hw2.py --env_name LunarLanderContinuous-v2 --ep_len 1000 \n",
    "--discount 0.99 -n 100 -l 2 -s 64 -b 40000 -lr 0.005  --reward_to_go \n",
    "--nn_baseline --exp_name q3_b40000_r0.005"
   ]
  },
  {
   "cell_type": "markdown",
   "metadata": {},
   "source": [
    "# Experiment 4 (HalfCheeta)"
   ]
  },
  {
   "cell_type": "code",
   "execution_count": null,
   "metadata": {},
   "outputs": [],
   "source": [
    "def run_cheeta(r, b):\n",
    "    !python ./run_hw2.py --env_name HalfCheetah-v2 --ep_len 150 \\\n",
    "    --discount 0.95 -n 100 -l 2 -s 32 -b {b} -lr {r} -rtg --nn_baseline \\\n",
    "    --exp_name q4_search_b{b}_lr{r}_rtg_nnbaseline\n",
    "\n",
    "for b in  [10000, 30000, 50000]:\n",
    "    for lr in [0.005, 0.01, 0.02]:\n",
    "        run_lunar(lr, b)"
   ]
  },
  {
   "cell_type": "markdown",
   "metadata": {},
   "source": [
    "### Now that we have selected b=50000, lr=0.02... Running additional experiments: "
   ]
  },
  {
   "cell_type": "code",
   "execution_count": null,
   "metadata": {
    "scrolled": true
   },
   "outputs": [],
   "source": [
    "!python ./run_hw2.py --env_name HalfCheetah-v2 --ep_len 150 \\\n",
    "--discount 0.95 -n 100 -l 2 -s 32 -b 50000 -lr 0.02 \\\n",
    "--exp_name q4_b50000_r0.02"
   ]
  },
  {
   "cell_type": "code",
   "execution_count": null,
   "metadata": {
    "scrolled": true
   },
   "outputs": [],
   "source": [
    "!python ./run_hw2.py --env_name HalfCheetah-v2 --ep_len 150 \\\n",
    "--discount 0.95 -n 100 -l 2 -s 32 -b 50000 -lr 0.02 -rtg \\\n",
    "--exp_name q4_b50000_r0.02_rtg"
   ]
  },
  {
   "cell_type": "code",
   "execution_count": null,
   "metadata": {
    "scrolled": true
   },
   "outputs": [],
   "source": [
    "!python ./run_hw2.py --env_name HalfCheetah-v2 --ep_len 150 \\\n",
    "--discount 0.95 -n 100 -l 2 -s 32 -b 50000 -lr 0.02 --nn_baseline \\\n",
    "--exp_name q4_b50000_r0.02_nnbaseline"
   ]
  },
  {
   "cell_type": "code",
   "execution_count": null,
   "metadata": {
    "scrolled": true
   },
   "outputs": [],
   "source": [
    "!python ./run_hw2.py --env_name HalfCheetah-v2 --ep_len 150 \\\n",
    "--discount 0.95 -n 100 -l 2 -s 32 -b 50000 -lr 0.02 -rtg --nn_baseline \\\n",
    "--exp_name q4_b50000_r0.02_rtg_nnbaseline"
   ]
  },
  {
   "cell_type": "code",
   "execution_count": null,
   "metadata": {},
   "outputs": [],
   "source": []
  }
 ],
 "metadata": {
  "kernelspec": {
   "display_name": "Python 3",
   "language": "python",
   "name": "python3"
  },
  "language_info": {
   "codemirror_mode": {
    "name": "ipython",
    "version": 3
   },
   "file_extension": ".py",
   "mimetype": "text/x-python",
   "name": "python",
   "nbconvert_exporter": "python",
   "pygments_lexer": "ipython3",
   "version": "3.6.12"
  }
 },
 "nbformat": 4,
 "nbformat_minor": 4
}
